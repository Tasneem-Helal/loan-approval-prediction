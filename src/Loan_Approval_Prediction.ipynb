{
 "cells": [
  {
   "cell_type": "code",
   "execution_count": 1,
   "id": "4f7cfe35",
   "metadata": {},
   "outputs": [],
   "source": [
    "import os\n",
    "import pandas as pd\n",
    "import kagglehub\n",
    "from sklearn.feature_selection import SelectKBest,f_classif\n",
    "import matplotlib.pyplot as plt\n",
    "from sklearn.model_selection import train_test_split\n",
    "from sklearn.linear_model import LogisticRegression\n",
    "from sklearn.tree import DecisionTreeClassifier\n",
    "from sklearn.metrics import precision_score, recall_score, f1_score\n",
    "from imblearn.over_sampling import SMOTE"
   ]
  },
  {
   "cell_type": "code",
   "execution_count": 2,
   "id": "b77f4352",
   "metadata": {},
   "outputs": [
    {
     "name": "stdout",
     "output_type": "stream",
     "text": [
      "Path to dataset files: C:\\Users\\Tasneem\\.cache\\kagglehub\\datasets\\architsharma01\\loan-approval-prediction-dataset\\versions\\1\n",
      "Files ['loan_approval_dataset.csv']\n",
      "Dataset Shape::\n",
      " (4269, 13)\n",
      "   loan_id   no_of_dependents      education  self_employed   income_annum  \\\n",
      "0        1                  2       Graduate             No        9600000   \n",
      "1        2                  0   Not Graduate            Yes        4100000   \n",
      "2        3                  3       Graduate             No        9100000   \n",
      "3        4                  3       Graduate             No        8200000   \n",
      "4        5                  5   Not Graduate            Yes        9800000   \n",
      "\n",
      "    loan_amount   loan_term   cibil_score   residential_assets_value  \\\n",
      "0      29900000          12           778                    2400000   \n",
      "1      12200000           8           417                    2700000   \n",
      "2      29700000          20           506                    7100000   \n",
      "3      30700000           8           467                   18200000   \n",
      "4      24200000          20           382                   12400000   \n",
      "\n",
      "    commercial_assets_value   luxury_assets_value   bank_asset_value  \\\n",
      "0                  17600000              22700000            8000000   \n",
      "1                   2200000               8800000            3300000   \n",
      "2                   4500000              33300000           12800000   \n",
      "3                   3300000              23300000            7900000   \n",
      "4                   8200000              29400000            5000000   \n",
      "\n",
      "   loan_status  \n",
      "0     Approved  \n",
      "1     Rejected  \n",
      "2     Rejected  \n",
      "3     Rejected  \n",
      "4     Rejected  \n",
      "\n",
      "Columns: Index(['loan_id', ' no_of_dependents', ' education', ' self_employed',\n",
      "       ' income_annum', ' loan_amount', ' loan_term', ' cibil_score',\n",
      "       ' residential_assets_value', ' commercial_assets_value',\n",
      "       ' luxury_assets_value', ' bank_asset_value', ' loan_status'],\n",
      "      dtype='object')\n",
      "\n",
      "Duplicates: 0\n",
      "\n",
      "Missing Values:\n",
      " loan_id                      0\n",
      " no_of_dependents            0\n",
      " education                   0\n",
      " self_employed               0\n",
      " income_annum                0\n",
      " loan_amount                 0\n",
      " loan_term                   0\n",
      " cibil_score                 0\n",
      " residential_assets_value    0\n",
      " commercial_assets_value     0\n",
      " luxury_assets_value         0\n",
      " bank_asset_value            0\n",
      " loan_status                 0\n",
      "dtype: int64\n",
      "\n",
      "Target Variable Count (numbers):\n",
      "loan_status\n",
      "Approved    2656\n",
      "Rejected    1613\n",
      "Name: count, dtype: int64\n",
      "\n",
      "Target Variable Distribution (%):\n",
      "loan_status\n",
      "Approved    62.22%\n",
      "Rejected    37.78%\n",
      "Name: proportion, dtype: object\n"
     ]
    }
   ],
   "source": [
    "# Download dataset\n",
    "path= kagglehub.dataset_download(\"architsharma01/loan-approval-prediction-dataset\")\n",
    "print(\"Path to dataset files:\", path)\n",
    "\n",
    "# Check files\n",
    "print(\"Files\", os.listdir(path))\n",
    "\n",
    "# Load dataset\n",
    "csv_path= os.path.join(path, \"loan_approval_dataset.csv\")\n",
    "df= pd.read_csv(csv_path)\n",
    "\n",
    "# Dataset info\n",
    "print(\"Dataset Shape::\\n\",df.shape)\n",
    "print(df.head())\n",
    "print(\"\\nColumns:\", df.columns)\n",
    "\n",
    "# Check for duplicate and missing values\n",
    "print(\"\\nDuplicates:\", df.duplicated().sum())\n",
    "print(\"\\nMissing Values:\\n\", df.isna().sum())\n",
    "\n",
    "# Clean column names and check target variable counts and distribution\n",
    "df.columns = df.columns.str.strip()\n",
    "\n",
    "print(\"\\nTarget Variable Count (numbers):\")\n",
    "print(df[\"loan_status\"].value_counts())\n",
    "\n",
    "print(\"\\nTarget Variable Distribution (%):\")\n",
    "print((df[\"loan_status\"].value_counts(normalize=True) * 100).round(2).astype(str) +'%')"
   ]
  },
  {
   "cell_type": "code",
   "execution_count": 3,
   "id": "1abb8561",
   "metadata": {},
   "outputs": [
    {
     "name": "stdout",
     "output_type": "stream",
     "text": [
      "education: [' Graduate' ' Not Graduate']\n",
      "self_employed: [' No' ' Yes']\n",
      "loan_status: [' Approved' ' Rejected']\n",
      "\n",
      "The preprocessed data is saved successfully to:\n",
      "c:\\Users\\Tasneem\\OneDrive\\Desktop\\Loan_Approval_Prediction_Description\\data\\loan_approval_preprocessed.csv\n"
     ]
    }
   ],
   "source": [
    "# Identify categorical columns\n",
    "cat_cols = df.select_dtypes(include=['object', 'category']).columns\n",
    "\n",
    "# Inspect their unique values\n",
    "for col in cat_cols:\n",
    "    print(f\"{col}: {df[col].unique()}\")\n",
    "\n",
    "# Separate target before encoding\n",
    "y=df['loan_status']\n",
    "X= df.drop('loan_status', axis=1)\n",
    "\n",
    "# Encode them automatically\n",
    "X = pd.get_dummies(X, drop_first=True)\n",
    "\n",
    "# Save the clean data\n",
    "\n",
    "# Get current working directory (src/)\n",
    "current_dir = os.getcwd()\n",
    "\n",
    "# Move one level up to the project root\n",
    "project_root = os.path.abspath(os.path.join(current_dir, os.pardir))\n",
    "\n",
    "# Define the data folder path\n",
    "data_dir = os.path.join(project_root, 'data')\n",
    "\n",
    "# Make sure the data folder exists\n",
    "os.makedirs(data_dir, exist_ok=True)\n",
    "\n",
    "# Save the preprocessed dataset\n",
    "output_path = os.path.join(data_dir, 'loan_approval_preprocessed.csv')\n",
    "df.to_csv(output_path, index=False)\n",
    "\n",
    "print(f\"\\nThe preprocessed data is saved successfully to:\\n{output_path}\")\n"
   ]
  },
  {
   "cell_type": "code",
   "execution_count": 4,
   "id": "5f958081",
   "metadata": {},
   "outputs": [
    {
     "name": "stdout",
     "output_type": "stream",
     "text": [
      "Top Features based on ANOVA F-test:\n",
      "\n",
      "                     Feature        Score\n",
      "5                cibil_score  6235.054591\n",
      "4                  loan_term    55.225458\n",
      "1           no_of_dependents     1.400600\n",
      "0                    loan_id     1.334967\n",
      "3                loan_amount     1.113176\n",
      "8        luxury_assets_value     1.020728\n",
      "2               income_annum     0.984669\n",
      "6   residential_assets_value     0.880877\n",
      "7    commercial_assets_value     0.290152\n",
      "9           bank_asset_value     0.196066\n",
      "10   education_ Not Graduate     0.103202\n",
      "11        self_employed_ Yes     0.000506\n"
     ]
    },
    {
     "data": {
      "image/png": "[encoded data removed]",
      "text/plain": [
       "<Figure size 1000x500 with 1 Axes>"
      ]
     },
     "metadata": {},
     "output_type": "display_data"
    }
   ],
   "source": [
    "#Feature selection\n",
    "# Apply ANOVA F-test\n",
    "best_features= SelectKBest(score_func=f_classif, k=10)\n",
    "fit= best_features.fit(X,y)\n",
    "\n",
    "# Create a DataFrame with feature names and scores\n",
    "df_scores= pd.DataFrame(fit.scores_, columns=['Score'])\n",
    "df_columns= pd.DataFrame(X.columns, columns=['Feature'])\n",
    "feature_scores= pd.concat([df_columns,df_scores], axis=1)\n",
    "\n",
    "# Sort features by importance\n",
    "feature_scores= feature_scores.sort_values(by='Score', ascending=False)\n",
    "\n",
    "# Display results\n",
    "print(\"Top Features based on ANOVA F-test:\\n\")\n",
    "print(feature_scores)\n",
    "\n",
    "# Visualize feature importance using ANOVA F-test scores\n",
    "plt.figure(figsize=(10,5))\n",
    "plt.barh(feature_scores['Feature'],feature_scores['Score'])\n",
    "plt.gca().invert_yaxis()\n",
    "plt.title('Feature Importance (ANOVA F-test Scores)') \n",
    "plt.xlabel('Score') \n",
    "plt.ylabel('Feature') \n",
    "plt.show()\n"
   ]
  },
  {
   "cell_type": "code",
   "execution_count": 5,
   "id": "7e2a369c",
   "metadata": {},
   "outputs": [
    {
     "name": "stdout",
     "output_type": "stream",
     "text": [
      "Logistic Regression\n",
      "Precision: 0.9261\n",
      "Recall:    0.9262\n",
      "F1-Score:  0.9259\n",
      "\n",
      "Decision Tree\n",
      "Precision: 0.9601\n",
      "Recall:    0.9602\n",
      "F1-Score:  0.9601\n",
      "\n"
     ]
    }
   ],
   "source": [
    "# Update X to contain only the top features selected via ANOVA F-test\n",
    "X= df[['cibil_score','loan_term']]\n",
    "\n",
    "# Split the dataset\n",
    "X_train, X_test, y_train, y_test= train_test_split(X,y, test_size=0.2, random_state=42, stratify=y)\n",
    "\n",
    "# Define models\n",
    "models={\n",
    "    'Logistic Regression': LogisticRegression(random_state=42),\n",
    "    'Decision Tree': DecisionTreeClassifier(random_state=42,max_depth=10)\n",
    "}\n",
    "\n",
    "results_imbalanced={}\n",
    "\n",
    "# Train and evaluate models on imbalanced data\n",
    "for name, model in models.items():\n",
    "    model.fit(X_train,y_train)\n",
    "    y_pred= model.predict(X_test)\n",
    "\n",
    "    results_imbalanced[name] = {\n",
    "        \"precision\": precision_score(y_test, y_pred, average='weighted'),\n",
    "        \"recall\": recall_score(y_test, y_pred, average='weighted'),\n",
    "        \"f1\": f1_score(y_test, y_pred, average='weighted')\n",
    "    }\n",
    "    \n",
    "    # Print evaluation results\n",
    "    print(name)\n",
    "    print(f\"Precision: {results_imbalanced[name]['precision']:.4f}\")\n",
    "    print(f\"Recall:    {results_imbalanced[name]['recall']:.4f}\")\n",
    "    print(f\"F1-Score:  {results_imbalanced[name]['f1']:.4f}\\n\")\n"
   ]
  },
  {
   "cell_type": "code",
   "execution_count": 6,
   "id": "4d99eb22",
   "metadata": {},
   "outputs": [
    {
     "name": "stdout",
     "output_type": "stream",
     "text": [
      "Before SMOTE: {' Approved': 2125, ' Rejected': 1290}\n",
      "After SMOTE: {' Rejected': 2125, ' Approved': 2125}\n",
      "\n",
      "After SMOTE - Logistic Regression\n",
      "Precision: 0.9441\n",
      "Recall:    0.9438\n",
      "F1-Score:  0.9439\n",
      "\n",
      "\n",
      "After SMOTE - Decision Tree\n",
      "Precision: 0.9637\n",
      "Recall:    0.9637\n",
      "F1-Score:  0.9636\n",
      "\n"
     ]
    }
   ],
   "source": [
    "# Apply SMOTE on the training set to balance the dataset\n",
    "smote= SMOTE(random_state=42)\n",
    "X_train_smote, y_train_smote= smote.fit_resample(X_train,y_train)\n",
    "\n",
    "print(\"Before SMOTE:\", y_train.value_counts().to_dict())\n",
    "print(\"After SMOTE:\", y_train_smote.value_counts().to_dict())\n",
    "\n",
    "results_smote={}\n",
    "\n",
    "# Retrain and evaluate models on balanced data\n",
    "for name, model in models.items():\n",
    "    model.fit(X_train_smote,y_train_smote)\n",
    "    y_pred_smote= model.predict(X_test)\n",
    "\n",
    "    results_smote[name] = {\n",
    "        \"precision\": precision_score(y_test, y_pred_smote, average='weighted'),\n",
    "        \"recall\": recall_score(y_test, y_pred_smote, average='weighted'),\n",
    "        \"f1\": f1_score(y_test, y_pred_smote, average='weighted')\n",
    "    }\n",
    "    \n",
    "    # Print evaluation results\n",
    "    print(\"\\nAfter SMOTE -\", name)\n",
    "    print(f\"Precision: {results_smote[name]['precision']:.4f}\")\n",
    "    print(f\"Recall:    {results_smote[name]['recall']:.4f}\")\n",
    "    print(f\"F1-Score:  {results_smote[name]['f1']:.4f}\\n\")\n"
   ]
  },
  {
   "cell_type": "code",
   "execution_count": 7,
   "id": "657548de",
   "metadata": {},
   "outputs": [
    {
     "name": "stdout",
     "output_type": "stream",
     "text": [
      "Logistic Regression improved after SMOTE (F1-Score: 0.9439 > 0.9259)\n",
      "Decision Tree improved after SMOTE (F1-Score: 0.9636 > 0.9601)\n"
     ]
    }
   ],
   "source": [
    "# Compare models before and after SMOTE\n",
    "for model_name in models.keys():\n",
    "    f1_imbalanced = results_imbalanced[model_name][\"f1\"]\n",
    "    f1_smote = results_smote[model_name][\"f1\"]\n",
    "\n",
    "    if f1_smote > f1_imbalanced:\n",
    "        print(f\"{model_name} improved after SMOTE (F1-Score: {f1_smote:.4f} > {f1_imbalanced:.4f})\")\n",
    "    else:\n",
    "        print(f\"{model_name} performed better on imbalanced data (F1-Score: {f1_smote:.4f} < {f1_imbalanced:.4f})\")\n"
   ]
  },
  {
   "cell_type": "code",
   "execution_count": 8,
   "id": "c003a20d",
   "metadata": {},
   "outputs": [
    {
     "name": "stdout",
     "output_type": "stream",
     "text": [
      "Results saved successfully to:\n",
      "c:\\Users\\Tasneem\\OneDrive\\Desktop\\Loan_Approval_Prediction_Description\\results\\evaluation.csv\n"
     ]
    }
   ],
   "source": [
    "# Save evaluation results\n",
    "results_df= pd.DataFrame({\n",
    "    \"Model\": list(results_imbalanced.keys()),\n",
    "    \"Precision (Imbalanced)\": [v['precision'] for v in results_imbalanced.values()],\n",
    "    \"Recall (Imbalanced)\": [v['recall'] for v in results_imbalanced.values()],\n",
    "    \"F1-Score (Imbalanced)\": [v['f1'] for v in results_imbalanced.values()],\n",
    "    \"Precision (Balanced)\": [v['precision'] for v in results_smote.values()],\n",
    "    \"Recall (Balanced)\": [v['recall'] for v in results_smote.values()],\n",
    "    \"F1-Score (Balanced)\": [v['f1'] for v in results_smote.values()]\n",
    "})\n",
    "\n",
    "# Create results directory\n",
    "results_dir = os.path.join(project_root, 'results')\n",
    "os.makedirs(results_dir, exist_ok=True)\n",
    "\n",
    "# Save results to CSV\n",
    "results_path = os.path.join(results_dir, 'evaluation.csv')\n",
    "results_df.to_csv(results_path, index=False)\n",
    "\n",
    "print(f\"Results saved successfully to:\\n{results_path}\")"
   ]
  },
  {
   "cell_type": "code",
   "execution_count": 9,
   "id": "2a4ae4a4",
   "metadata": {},
   "outputs": [
    {
     "name": "stdout",
     "output_type": "stream",
     "text": [
      "Best model on imbalanced data: Decision Tree\n",
      "Best model after SMOTE: Decision Tree\n"
     ]
    }
   ],
   "source": [
    "# Print which model performed best in both phases\n",
    "best_model_imbalanced= max(results_imbalanced, key= lambda m: results_imbalanced[m]['f1'])\n",
    "best_model_smote= max(results_smote, key= lambda m: results_smote[m]['f1'])\n",
    "\n",
    "print(\"Best model on imbalanced data:\", best_model_imbalanced)\n",
    "print(\"Best model after SMOTE:\", best_model_smote)"
   ]
  },
  {
   "cell_type": "code",
   "execution_count": 10,
   "id": "061dfa28",
   "metadata": {},
   "outputs": [
    {
     "name": "stdout",
     "output_type": "stream",
     "text": [
      "Model that improved the most after SMOTE: Logistic Regression\n"
     ]
    }
   ],
   "source": [
    "# Identify the model with the highest SMOTE gain\n",
    "improvements= {m: results_smote[m]['f1'] - results_imbalanced[m]['f1'] for m in models.keys()}\n",
    "model_with_biggest_gain= max(improvements, key= improvements.get)\n",
    "\n",
    "print(\"Model that improved the most after SMOTE:\", model_with_biggest_gain)"
   ]
  }
 ],
 "metadata": {
  "kernelspec": {
   "display_name": "Python 3",
   "language": "python",
   "name": "python3"
  },
  "language_info": {
   "codemirror_mode": {
    "name": "ipython",
    "version": 3
   },
   "file_extension": ".py",
   "mimetype": "text/x-python",
   "name": "python",
   "nbconvert_exporter": "python",
   "pygments_lexer": "ipython3",
   "version": "3.11.0"
  }
 },
 "nbformat": 4,
 "nbformat_minor": 5
}
